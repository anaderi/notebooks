{
 "cells": [
  {
   "cell_type": "markdown",
   "metadata": {},
   "source": [
    "# Quantum tomography\n",
    "\n",
    "Quantum tomography is the process of reconstructing the quantum state for a source of quantum systems by measurements on the systems coming from the source.\n",
    "\n",
    "We need to obtain the best approximation $\\sigma$ of the true quantum state $\\rho$ using training samples $X_{train}=\\{E_i,y_i\\}_{i=0}^{N}$, where $E_i$ - some projector and $y_i$ - the probability (projection of true state $\\rho$ on $E_i$). "
   ]
  },
  {
   "cell_type": "code",
   "execution_count": null,
   "metadata": {},
   "outputs": [],
   "source": [
    "!wget https://raw.githubusercontent.com/lutik-inc/notebooks/master/Practice%20in%20Python/simulator.py"
   ]
  },
  {
   "cell_type": "code",
   "execution_count": null,
   "metadata": {},
   "outputs": [],
   "source": [
    "import numpy as np\n",
    "import simulator as sim\n",
    "\n",
    "from scipy.linalg import sqrtm\n",
    "from scipy.optimize import approx_fprime\n",
    "from IPython.display import clear_output\n",
    "import matplotlib.pyplot as plt\n",
    "%matplotlib inline"
   ]
  },
  {
   "cell_type": "markdown",
   "metadata": {},
   "source": [
    "### Data"
   ]
  },
  {
   "cell_type": "markdown",
   "metadata": {},
   "source": [
    "Quantum state of <i>n</i>-qubit system can be described by $2^n \\times 2^n$ density matrix.  \n",
    "Let's generate random $2 \\times 2$ density matrix, called ```target_state```, which represents some 1-qubit system. "
   ]
  },
  {
   "cell_type": "code",
   "execution_count": null,
   "metadata": {},
   "outputs": [],
   "source": [
    "n_qubits = 1\n",
    "dim = 2 ** n_qubits\n",
    "target_state = sim.randomPureState(dim)"
   ]
  },
  {
   "cell_type": "markdown",
   "metadata": {},
   "source": [
    "The following function performs ```n_projectors``` different measurements.\n",
    "Due to probabilistic nature, we perform ```n_measurements``` measurements per each individual projector.\n",
    "Set of projectors ```X_train``` and  corresponding probabilities that a measurement of a quantum system will yield a given result ```y_train``` are returned."
   ]
  },
  {
   "cell_type": "code",
   "execution_count": null,
   "metadata": {},
   "outputs": [],
   "source": [
    "def generate_dataset(target_state, n_projectors, n_measurements):\n",
    "    dim = target_state.shape[0]\n",
    "    X_train = np.array([sim.randomPureState(dim) for _ in range(n_projectors)])\n",
    "    \n",
    "    y_train = []\n",
    "    for projector in X_train:\n",
    "        ones, zeroes = sim.measure(n_measurements, target_state, projector)\n",
    "        y_train.append(ones / n_measurements)\n",
    "    y_train = np.array(y_train)\n",
    "        \n",
    "    return X_train, y_train"
   ]
  },
  {
   "cell_type": "code",
   "execution_count": null,
   "metadata": {},
   "outputs": [],
   "source": [
    "X_train, y_train = generate_dataset(target_state, n_projectors=5, n_measurements=100)"
   ]
  },
  {
   "cell_type": "markdown",
   "metadata": {},
   "source": [
    "Fidelity is used to measure how close are two quantum states, e.g. our estimated and true states."
   ]
  },
  {
   "cell_type": "code",
   "execution_count": null,
   "metadata": {},
   "outputs": [],
   "source": [
    "def fidelity(state_1, state_2):\n",
    "    state_1_sqrt = sqrtm(state_1)\n",
    "    F = np.dot(np.dot(state_1_sqrt, state_2), state_1_sqrt)\n",
    "    return (np.trace(sqrtm(F)) ** 2).real"
   ]
  },
  {
   "cell_type": "markdown",
   "metadata": {},
   "source": [
    "SciPy works with real-valued vectors, so we need this hepler functions for forward and backward conversions."
   ]
  },
  {
   "cell_type": "code",
   "execution_count": null,
   "metadata": {},
   "outputs": [],
   "source": [
    "def to_realvector(z):\n",
    "    z = z.reshape(-1)                       # complex matrix n * n -> complex vector of length n ** 2\n",
    "    return np.concatenate((z.real, z.imag)) # complex of length n ** 2 -> real vector of length 2 * (n ** 2)\n",
    "\n",
    "def to_complexmatrix(z): \n",
    "    half = len(z)//2\n",
    "    z = z[:half] + 1j * z[half:]            # real vector of length 2 * (n ** 2) -> complex of length n ** 2\n",
    "    n = np.sqrt(half).astype(np.int)\n",
    "    return z.reshape(n, n)                  # complex of length n ** 2 -> complex matrix n * n"
   ]
  },
  {
   "cell_type": "markdown",
   "metadata": {},
   "source": [
    "### Loss function"
   ]
  },
  {
   "cell_type": "markdown",
   "metadata": {},
   "source": [
    "It is proposed to minimize mean-squared-error between measurements on true state and measurements on current estimated state.\n",
    "$$\\min_\\sigma[loss(\\sigma)=\\sum_i(Tr(E_i\\sigma)-Tr(E_i\\rho))^2=\\sum_i(Tr(E_i\\sigma)-y_i)^2]$$  \n",
    "where $\\sigma$ is density matrix, i.e. a positive semidefinite, Hermitian operator of trace 1 acting on the state space.  "
   ]
  },
  {
   "cell_type": "markdown",
   "metadata": {},
   "source": [
    "In order to make this minimization unconditional, lets decompose $\\sigma$ in the following way:\n",
    " \n",
    "$$\\sigma=\\frac{M^{\\dagger}M}{Tr(M^{\\dagger}M)}$$\n",
    "\n",
    "```to_density``` associates each arbitrary matrix with a density operator."
   ]
  },
  {
   "cell_type": "code",
   "execution_count": null,
   "metadata": {},
   "outputs": [],
   "source": [
    "def to_density(M):\n",
    "    state = M.T.conj().dot(M)\n",
    "    norm = np.trace(state).real.sum()\n",
    "    return state / norm"
   ]
  },
  {
   "cell_type": "markdown",
   "metadata": {},
   "source": [
    "So the final minimization functional defined as follows:\n",
    "$$\\min_M\\Big[loss(M)=\\sum_i\\Big(Tr\\big(E_i\\frac{M^{\\dagger}M}{Tr(M^{\\dagger}M)}\\big)-y_i\\Big)^2\\Big]$$"
   ]
  },
  {
   "cell_type": "code",
   "execution_count": null,
   "metadata": {},
   "outputs": [],
   "source": [
    "def loss(M, X_train, y_train):\n",
    "    pred_state = to_density(M)\n",
    "    pred = np.trace(np.einsum('bij,jk->bik', X_train, pred_state), axis1=1, axis2=2).real\n",
    "    return np.mean((pred - y_train) ** 2)"
   ]
  },
  {
   "cell_type": "markdown",
   "metadata": {},
   "source": [
    "### Optimization"
   ]
  },
  {
   "cell_type": "markdown",
   "metadata": {},
   "source": [
    "Let's start with some random estimation of our quantum system state. "
   ]
  },
  {
   "cell_type": "code",
   "execution_count": null,
   "metadata": {},
   "outputs": [],
   "source": [
    "M = sim.randomMixedState(dim)\n",
    "init_state = to_density(M)\n",
    "\n",
    "print('init fidelity:\\t', fidelity(target_state, init_state))\n",
    "print('init loss:\\t', loss(M, X_train, y_train))"
   ]
  },
  {
   "cell_type": "markdown",
   "metadata": {},
   "source": [
    "We will use gradient descent as a minimization algorithm.  \n",
    "The key idea: starting at the top of the mountain, we take our first step downhill in the direction specified by the negative gradient. Next we recalculate the negative gradient and take another step. We continue this process iteratively to a point where we can no longer move downhill localy. "
   ]
  },
  {
   "cell_type": "markdown",
   "metadata": {},
   "source": [
    "The gradient is estimated approximately by ```scipy.optimize.approx_fprime``` function."
   ]
  },
  {
   "cell_type": "code",
   "execution_count": null,
   "metadata": {},
   "outputs": [],
   "source": [
    "max_iters = 1000\n",
    "learning_rate = 5e-2\n",
    "early_stopping_criteria = 1e-3\n",
    "loss_history = []\n",
    "fidelity_history = []\n",
    "\n",
    "M_vec = to_realvector(M)"
   ]
  },
  {
   "cell_type": "code",
   "execution_count": null,
   "metadata": {},
   "outputs": [],
   "source": [
    "for step in range(max_iters):\n",
    "    \n",
    "    grad = approx_fprime(M_vec, lambda x: loss(to_complexmatrix(x), X_train, y_train), epsilon=1e-3)\n",
    "    M_vec -= grad * learning_rate\n",
    "    \n",
    "    M = to_complexmatrix(M_vec)\n",
    "    pred_state = to_density(M)\n",
    "    loss_history.append(loss(M, X_train, y_train))\n",
    "    fidelity_history.append(fidelity(target_state, pred_state))\n",
    "    \n",
    "    if step % 10 == 0:\n",
    "        clear_output(True)\n",
    "        plt.figure(figsize=(10,5))\n",
    "        plt.subplot(121)\n",
    "        plt.xlabel('iter')\n",
    "        plt.ylabel('Loss')\n",
    "        plt.plot(loss_history)\n",
    "        plt.grid()\n",
    "        plt.subplot(122)\n",
    "        plt.xlabel('iter')\n",
    "        plt.ylabel('Fidelity')\n",
    "        plt.plot(fidelity_history)\n",
    "        plt.grid()\n",
    "        plt.show()\n",
    "    \n",
    "    if np.sqrt((grad ** 2).sum()) < early_stopping_criteria:\n",
    "        break"
   ]
  },
  {
   "cell_type": "markdown",
   "metadata": {},
   "source": [
    "Final evaluation"
   ]
  },
  {
   "cell_type": "code",
   "execution_count": null,
   "metadata": {},
   "outputs": [],
   "source": [
    "M = to_complexmatrix(M_vec)\n",
    "pred_state = to_density(M)\n",
    "\n",
    "print('final fidelity:\\t', fidelity(target_state, pred_state))\n",
    "print('final loss:\\t', loss(M, X_train, y_train))"
   ]
  },
  {
   "cell_type": "markdown",
   "metadata": {},
   "source": [
    "### Qubit visualization"
   ]
  },
  {
   "cell_type": "markdown",
   "metadata": {},
   "source": [
    "The Bloch sphere is a geometric representation of qubit states as points on the surface (pure states) or inside (mixed states) of a unit sphere.  \n",
    "Before visualization, we need to converts density matrices to coordinates on the Bloch sphere"
   ]
  },
  {
   "cell_type": "code",
   "execution_count": null,
   "metadata": {},
   "outputs": [],
   "source": [
    "import qutip # use pip install qutip"
   ]
  },
  {
   "cell_type": "code",
   "execution_count": null,
   "metadata": {},
   "outputs": [],
   "source": [
    "def density_to_bloch(density_matrix):\n",
    "    x = 2 * density_matrix[0, 1].real\n",
    "    y = 2 * density_matrix[1, 0].imag\n",
    "    z = (density_matrix[0, 0] - density_matrix[1, 1]).real\n",
    "    return np.array([x, y, z])"
   ]
  },
  {
   "cell_type": "markdown",
   "metadata": {},
   "source": [
    "<font color='blue'>Blue</font>, <font color='green'>green</font>, <font color='orange'>orange</font> vectors representing ```init_state```, ```target_state``` and ```pred_state``` respectively. As we can see from the picture, our estimated state is close enough to true quantum state."
   ]
  },
  {
   "cell_type": "code",
   "execution_count": null,
   "metadata": {},
   "outputs": [],
   "source": [
    "b = qutip.Bloch()\n",
    "b.add_vectors(list(map(density_to_bloch, [target_state, pred_state, init_state])))\n",
    "b.show()"
   ]
  },
  {
   "cell_type": "markdown",
   "metadata": {},
   "source": [
    "### Summary"
   ]
  },
  {
   "cell_type": "markdown",
   "metadata": {},
   "source": [
    "In this practical lesson we\n",
    "* studied the basics of quantum tomography\n",
    "* represented this task as an optimizational problem\n",
    "* solved optimizational problem by Gradient Descent algorithm.\n",
    "* we visualized final results on Bloch Sphere"
   ]
  }
 ],
 "metadata": {
  "kernelspec": {
   "display_name": "Python 3",
   "language": "python",
   "name": "python3"
  },
  "language_info": {
   "codemirror_mode": {
    "name": "ipython",
    "version": 3
   },
   "file_extension": ".py",
   "mimetype": "text/x-python",
   "name": "python",
   "nbconvert_exporter": "python",
   "pygments_lexer": "ipython3",
   "version": "3.7.4"
  }
 },
 "nbformat": 4,
 "nbformat_minor": 4
}
