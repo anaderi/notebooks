{
 "cells": [
  {
   "cell_type": "markdown",
   "metadata": {},
   "source": [
    "**Let the motion of an object of mass $m$ that moves under the action of the force $ F $ is described by the differential equation:**\n",
    "\n",
    "$$F = m \\ddot{x}$$\n",
    "\n",
    "**where $\\ddot{x} - $  the second derivative of $x$ with respect to $t$.**"
   ]
  },
  {
   "cell_type": "code",
   "execution_count": 7,
   "metadata": {},
   "outputs": [],
   "source": [
    "import numpy as np\n",
    "from matplotlib import pyplot as plt"
   ]
  },
  {
   "cell_type": "markdown",
   "metadata": {},
   "source": [
    "**Let us have the set of points with coordinates $t$ and $x$:**"
   ]
  },
  {
   "cell_type": "code",
   "execution_count": 2,
   "metadata": {},
   "outputs": [],
   "source": [
    "def coord_tx():\n",
    "    \n",
    "    \"\"\"This function creates a set of points with size = size \n",
    "    that obey the law x = a*t**2+b*t+c\"\"\"\n",
    "    \n",
    "    size = 20\n",
    "    t = np.random.random(size)\n",
    "    t.sort()\n",
    "    a, b, c = np.random.randint(0,6,size=3)\n",
    "    \n",
    "    x = a*t**2 + b*t + c\n",
    "    \n",
    "    return t, x"
   ]
  },
  {
   "cell_type": "code",
   "execution_count": 5,
   "metadata": {},
   "outputs": [],
   "source": [
    "t, x = coord_tx()"
   ]
  },
  {
   "cell_type": "markdown",
   "metadata": {},
   "source": [
    "**Find the form of function x = f(t) that saticfies the differential equation written above and minimizes the mean squared error (MSE).**"
   ]
  },
  {
   "cell_type": "code",
   "execution_count": 6,
   "metadata": {},
   "outputs": [],
   "source": [
    "def mse(x_true,x_pred):\n",
    "    \n",
    "    \"\"\"The function of mean squared error\"\"\"\n",
    "    \n",
    "    return ((x_true - x_pred)**2).sum()/len(x_true)"
   ]
  },
  {
   "cell_type": "code",
   "execution_count": 3,
   "metadata": {},
   "outputs": [],
   "source": [
    "def f(#arguents):\n",
    "    # your code"
   ]
  },
  {
   "cell_type": "code",
   "execution_count": 6,
   "metadata": {},
   "outputs": [
    {
     "name": "stdout",
     "output_type": "stream",
     "text": [
      "\n",
      " Mean squared error = 1.0871401797841933\n",
      "\n"
     ]
    },
    {
     "data": {
      "image/png": "[encoded data removed]",
      "text/plain": [
       "<Figure size 432x288 with 1 Axes>"
      ]
     },
     "metadata": {
      "needs_background": "light"
     },
     "output_type": "display_data"
    }
   ],
   "source": [
    "x_pred = f(#arguents)\n",
    "\n",
    "MSE = mse(x,x_pred)\n",
    "print(f'\\n Mean squared error = {MSE}\\n')\n",
    "\n",
    "plt.scatter(t,x, c='b')\n",
    "plt.plot(t,x_pred, linewidth=3, c='r', alpha=0.5)\n",
    "plt.grid()\n",
    "plt.xlabel('t')\n",
    "plt.ylabel('x')\n",
    "plt.show()"
   ]
  },
  {
   "cell_type": "code",
   "execution_count": null,
   "metadata": {},
   "outputs": [],
   "source": []
  },
  {
   "cell_type": "code",
   "execution_count": null,
   "metadata": {},
   "outputs": [],
   "source": []
  },
  {
   "cell_type": "code",
   "execution_count": null,
   "metadata": {},
   "outputs": [],
   "source": []
  }
 ],
 "metadata": {
  "kernelspec": {
   "display_name": "Python 3",
   "language": "python",
   "name": "python3"
  },
  "language_info": {
   "codemirror_mode": {
    "name": "ipython",
    "version": 3
   },
   "file_extension": ".py",
   "mimetype": "text/x-python",
   "name": "python",
   "nbconvert_exporter": "python",
   "pygments_lexer": "ipython3",
   "version": "3.7.6"
  }
 },
 "nbformat": 4,
 "nbformat_minor": 4
}
